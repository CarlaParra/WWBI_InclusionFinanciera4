{
  "cells": [
    {
      "cell_type": "markdown",
      "metadata": {
        "id": "LqOubYXjK-_K"
      },
      "source": [
        "Notebook para limpieza y tratamiento de datos del dataset de indicadores de género en LATAM.\n",
        "Cada fila del dataset representa una serie temporal asociada a un indicador particular para un país,\n",
        "con valores anuales desde el año 2000 hasta el 2017.\n",
        "El objetivo principal es limpiar el dataset eliminando columnas y filas no informativas,\n",
        "y luego aplicar imputación por regresión lineal sobre las series temporales incompletas.\n",
        "\n",
        "❗ Esta notebook asume que el archivo df_latam_genero.csv está en la carpeta ./data/clean/parciales/"
      ]
    },
    {
      "cell_type": "markdown",
      "metadata": {
        "id": "iee-k4JbLIIS"
      },
      "source": [
        "# 1. Importación de librerías necesarias\n",
        "Estas librerías permiten la carga y manipulación de datos (pandas, numpy), visualización (matplotlib, seaborn)\n"
      ]
    },
    {
      "cell_type": "code",
      "execution_count": 1,
      "metadata": {
        "id": "rqqMrvTFfTRu"
      },
      "outputs": [],
      "source": [
        "import matplotlib.pyplot as plt\n",
        "import numpy as np\n",
        "import pandas as pd\n",
        "import seaborn as sns\n",
        "import sys\n",
        "import os\n"
      ]
    },
    {
      "cell_type": "markdown",
      "metadata": {
        "id": "nmKZUoPVmOf5"
      },
      "source": [
        "# 2. Cargar el dataset y eliminar columnas con más del 70% de valores NaN\n",
        "\n",
        "En esta etapa, se carga el archivo original 'df_latam_genero.csv' quecontiene la data de latinoamérica filtrada por indicadores asociados a género (ver notebook 01_EDA para más detalles de la categorización de indicadores). Luego, se identifican y eliminan las columnas en las que más del 70% de los datos son NaN (faltantes), lo que indica que esas columnas tienen poca o nula utilidad analítica. Esto permite reducir el ruido en el análisis posterior. Es importante mencionar que, bajo este criterio de eliminación, las columnas correspondientes a los años desde 2018 a 2022 fueron eliminadas por tener demasiados valores faltantes. Esto sugiere que muchos países dejaron de reportar sus indicadores a partir de 2018.\n"
      ]
    },
    {
      "cell_type": "code",
      "execution_count": 6,
      "metadata": {
        "colab": {
          "base_uri": "https://localhost:8080/"
        },
        "id": "wPzr1WbMfTRz",
        "outputId": "2ef922cf-6ba5-491f-8b5f-9ae0a6ca2d3f"
      },
      "outputs": [
        {
          "name": "stdout",
          "output_type": "stream",
          "text": [
            "Column 'Country Name': 0.00% NaN values\n",
            "Column 'Country Code': 0.00% NaN values\n",
            "Column 'Indicator Name': 0.00% NaN values\n",
            "Column 'Indicator Code': 0.00% NaN values\n",
            "Column '2000': 52.53% NaN values\n",
            "Column '2001': 40.01% NaN values\n",
            "Column '2002': 38.37% NaN values\n",
            "Column '2003': 35.91% NaN values\n",
            "Column '2004': 37.00% NaN values\n",
            "Column '2005': 37.82% NaN values\n",
            "Column '2006': 30.30% NaN values\n",
            "Column '2007': 42.61% NaN values\n",
            "Column '2008': 42.68% NaN values\n",
            "Column '2009': 34.27% NaN values\n",
            "Column '2010': 55.27% NaN values\n",
            "Column '2011': 45.62% NaN values\n",
            "Column '2012': 33.65% NaN values\n",
            "Column '2013': 65.05% NaN values\n",
            "Column '2014': 54.24% NaN values\n",
            "Column '2015': 37.41% NaN values\n",
            "Column '2016': 61.22% NaN values\n",
            "Column '2017': 49.93% NaN values\n",
            "Column '2018': 85.50% NaN values\n",
            "Column '2019': 86.94% NaN values\n",
            "Column '2020': 95.21% NaN values\n",
            "Column '2021': 80.71% NaN values\n",
            "Column '2022': 100.00% NaN values\n",
            "Column 'region': 0.00% NaN values\n",
            "Column 'Categoria Indicador': 0.00% NaN values\n",
            "Dropping the following columns with more than 70% NaN values:\n",
            "2018\n",
            "2019\n",
            "2020\n",
            "2021\n",
            "2022\n"
          ]
        }
      ],
      "source": [
        "df_latam_genero = pd.read_csv(r'..\\data\\clean\\parciales\\df_latam_genero.csv')\n",
        "\n",
        "# Identify columns with more than 70% NaN values\n",
        "nan_columns = []\n",
        "for column in df_latam_genero.columns:\n",
        "    # Calculate percentage of NaN values\n",
        "    percentage_nan = (df_latam_genero[column].isnull().sum() / len(df_latam_genero)) * 100\n",
        "\n",
        "    # Print the results\n",
        "    print(f\"Column '{column}': {percentage_nan:.2f}% NaN values\")\n",
        "\n",
        "    # Check if percentage of NaN values is more than 70%\n",
        "    if percentage_nan > 70:\n",
        "        nan_columns.append(column)\n",
        "\n",
        "# Print the names of the columns to be dropped\n",
        "print(\"Dropping the following columns with more than 70% NaN values:\")\n",
        "for column_name in nan_columns:\n",
        "    print(column_name)\n",
        "\n",
        "# Drop the identified columns\n",
        "df_latam_genero_colsdropped = df_latam_genero.drop(columns=nan_columns)\n",
        "df_latam_genero_colsdropped.to_csv('df_latam_genero_dropped.csv', index=False)"
      ]
    },
    {
      "cell_type": "markdown",
      "metadata": {
        "id": "sHJ76n0gI8za"
      },
      "source": [
        "# 3. Eliminar filas con series de tiempo completamente vacías\n",
        "En esta etapa, los valores numéricos de cada fila representa una serie de tiempo: los valores de un indicador específico para un país,\n",
        "a lo largo de los años 2000 al 2017. Si una fila no contiene ningún valor numérico en este rango de años,\n",
        "significa que no se tiene información útil sobre esa serie, por lo que se elimina. De nuevo, esto significa que un país no reportó un indicador a lo largo de todos los años de medición de este dataset. Se resalta aquí el caso particular de Venezuela cuya gran mayoría de indicadores fue rechazado en esta etapa\n",
        "\n"
      ]
    },
    {
      "cell_type": "code",
      "execution_count": null,
      "metadata": {
        "colab": {
          "base_uri": "https://localhost:8080/"
        },
        "id": "hTerFaiKxeTn",
        "outputId": "b588889e-7051-4790-dd1a-847487c33ca4"
      },
      "outputs": [
        {
          "name": "stdout",
          "output_type": "stream",
          "text": [
            "Eliminando fila: País - Argentina, Indicador - Females, as a share of private paid employees by occupational group: Clerks\n",
            "Eliminando fila: País - Argentina, Indicador - Females, as a share of public paid employees by occupational group: Clerks\n",
            "Eliminando fila: País - Argentina, Indicador - Public sector female employment, as a share of paid employment by occupational group: Clerks\n",
            "Eliminando fila: País - Bolivia, Indicador - Gender wage premium in the public sector, by industry: Social Security (compared to male paid employees)\n",
            "Eliminando fila: País - Bolivia, Indicador - P-Value: Gender wage premium in the public sector, by industry: Social Security (compared to male paid employees)\n",
            "Eliminando fila: País - Brazil, Indicador - Females, as a share of public paid employees by industry: Core Public Administration\n",
            "Eliminando fila: País - Brazil, Indicador - Females, as a share of public paid employees by industry: Public Safety\n",
            "Eliminando fila: País - Brazil, Indicador - Females, as a share of public paid employees by industry: Social Security\n",
            "Eliminando fila: País - Colombia, Indicador - Females, as a share of public paid employees by industry: Core Public Administration\n",
            "Eliminando fila: País - Colombia, Indicador - Females, as a share of public paid employees by industry: Social Security\n",
            "Eliminando fila: País - Colombia, Indicador - Females, as a share of public paid employees by industry: Teachers\n",
            "Eliminando fila: País - Colombia, Indicador - Females, as a share of public paid employees by occupation: Medical workers\n",
            "Eliminando fila: País - Colombia, Indicador - Gender wage premium in the private sector, by occupation: Medical workers (compared to male paid employees)\n",
            "Eliminando fila: País - Colombia, Indicador - Gender wage premium in the private sector, by occupation: Teachers (compared to male paid employees)\n",
            "Eliminando fila: País - Colombia, Indicador - Gender wage premium in the public sector, by industry: Core Public Administration (compared to male paid employees)\n",
            "Eliminando fila: País - Colombia, Indicador - Public sector female employment, as a share of paid employment by occupation: Medical workers\n",
            "Eliminando fila: País - Colombia, Indicador - Public sector female employment, as a share of paid employment by occupation: Teachers\n",
            "Eliminando fila: País - Colombia, Indicador - Public sector wage premium for females, by occupation: Medical workers (compared to paid wage employees)\n",
            "Eliminando fila: País - Colombia, Indicador - Public sector wage premium for females, by occupation: Teachers (compared to paid wage employees)\n",
            "Eliminando fila: País - Colombia, Indicador - Public sector wage premium for males, by occupation: Medical workers (compared to paid wage employees)\n",
            "Eliminando fila: País - Colombia, Indicador - Public sector wage premium for males, by occupation: Teachers (compared to paid wage employees)\n",
            "Eliminando fila: País - Colombia, Indicador - P-Value: Gender wage premium in the private sector, by occupation: Medical workers (compared to male paid employees)\n",
            "Eliminando fila: País - Colombia, Indicador - P-Value: Gender wage premium in the private sector, by occupation: Teachers (compared to male paid employees)\n",
            "Eliminando fila: País - Colombia, Indicador - P-Value: Gender wage premium in the public sector, by industry: Core Public Administration (compared to male paid employees)\n",
            "Eliminando fila: País - Colombia, Indicador - P-Value: Public sector wage premium for females, by occupation: Medical workers (compared to paid wage employees)\n",
            "Eliminando fila: País - Colombia, Indicador - P-Value: Public sector wage premium for females, by occupation: Teachers (compared to paid wage employees)\n",
            "Eliminando fila: País - Colombia, Indicador - P-Value: Public sector wage premium for males, by occupation: Medical workers (compared to paid wage employees)\n",
            "Eliminando fila: País - Colombia, Indicador - P-Value: Public sector wage premium for males, by occupation: Teachers (compared to paid wage employees)\n",
            "Eliminando fila: País - Guatemala, Indicador - Females, as a share of public paid employees by industry: Core Public Administration\n",
            "Eliminando fila: País - Guatemala, Indicador - Females, as a share of public paid employees by industry: Public Safety\n",
            "Eliminando fila: País - Guatemala, Indicador - Females, as a share of public paid employees by industry: Social Security\n",
            "Eliminando fila: País - Guatemala, Indicador - Females, as a share of public paid employees by industry: Teachers\n",
            "Eliminando fila: País - Guatemala, Indicador - Females, as a share of public paid employees by occupation: Medical workers\n",
            "Eliminando fila: País - Guatemala, Indicador - Public sector female employment, as a share of paid employment by occupation: Medical workers\n",
            "Eliminando fila: País - Guatemala, Indicador - Public sector female employment, as a share of paid employment by occupation: Teachers\n",
            "Eliminando fila: País - Guatemala, Indicador - Public sector wage premium for males, by occupation: Medical workers (compared to paid wage employees)\n",
            "Eliminando fila: País - Guatemala, Indicador - Public sector wage premium for males, by occupation: Teachers (compared to paid wage employees)\n",
            "Eliminando fila: País - Guatemala, Indicador - P-Value: Public sector wage premium for males, by occupation: Medical workers (compared to paid wage employees)\n",
            "Eliminando fila: País - Guatemala, Indicador - P-Value: Public sector wage premium for males, by occupation: Teachers (compared to paid wage employees)\n",
            "Eliminando fila: País - Nicaragua, Indicador - Females, as a share of public paid employees by industry: Core Public Administration\n",
            "Eliminando fila: País - Nicaragua, Indicador - Females, as a share of public paid employees by industry: Public Safety\n",
            "Eliminando fila: País - Nicaragua, Indicador - Females, as a share of public paid employees by industry: Social Security\n",
            "Eliminando fila: País - Nicaragua, Indicador - Females, as a share of public paid employees by industry: Teachers\n",
            "Eliminando fila: País - Nicaragua, Indicador - Females, as a share of public paid employees by occupation: Medical workers\n",
            "Eliminando fila: País - Nicaragua, Indicador - Gender wage premium in the private sector, by occupation: Medical workers (compared to male paid employees)\n",
            "Eliminando fila: País - Nicaragua, Indicador - Gender wage premium in the public sector, by industry: Core Public Administration (compared to male paid employees)\n",
            "Eliminando fila: País - Nicaragua, Indicador - Gender wage premium in the public sector, by industry: Public Safety (compared to male paid employees)\n",
            "Eliminando fila: País - Nicaragua, Indicador - Gender wage premium in the public sector, by industry: Social Security (compared to male paid employees)\n",
            "Eliminando fila: País - Nicaragua, Indicador - Public sector female employment, as a share of paid employment by occupation: Medical workers\n",
            "Eliminando fila: País - Nicaragua, Indicador - Public sector female employment, as a share of paid employment by occupation: Teachers\n",
            "Eliminando fila: País - Nicaragua, Indicador - Public sector wage premium for males, by occupation: Medical workers (compared to paid wage employees)\n",
            "Eliminando fila: País - Nicaragua, Indicador - Public sector wage premium for males, by occupation: Teachers (compared to paid wage employees)\n",
            "Eliminando fila: País - Nicaragua, Indicador - P-Value: Gender wage premium in the private sector, by occupation: Medical workers (compared to male paid employees)\n",
            "Eliminando fila: País - Nicaragua, Indicador - P-Value: Gender wage premium in the public sector, by industry: Core Public Administration (compared to male paid employees)\n",
            "Eliminando fila: País - Nicaragua, Indicador - P-Value: Gender wage premium in the public sector, by industry: Public Safety (compared to male paid employees)\n",
            "Eliminando fila: País - Nicaragua, Indicador - P-Value: Gender wage premium in the public sector, by industry: Social Security (compared to male paid employees)\n",
            "Eliminando fila: País - Nicaragua, Indicador - P-Value: Public sector wage premium for males, by occupation: Medical workers (compared to paid wage employees)\n",
            "Eliminando fila: País - Nicaragua, Indicador - P-Value: Public sector wage premium for males, by occupation: Teachers (compared to paid wage employees)\n",
            "Eliminando fila: País - Panama, Indicador - Females, as a share of public paid employees by industry: Core Public Administration\n",
            "Eliminando fila: País - Panama, Indicador - Females, as a share of public paid employees by industry: Public Safety\n",
            "Eliminando fila: País - Panama, Indicador - Females, as a share of public paid employees by industry: Social Security\n",
            "Eliminando fila: País - Panama, Indicador - Females, as a share of public paid employees by industry: Teachers\n",
            "Eliminando fila: País - Panama, Indicador - Gender wage premium in the private sector, by occupation: Medical workers (compared to male paid employees)\n",
            "Eliminando fila: País - Panama, Indicador - Gender wage premium in the public sector, by industry: Core Public Administration (compared to male paid employees)\n",
            "Eliminando fila: País - Panama, Indicador - Gender wage premium in the public sector, by industry: Public Safety (compared to male paid employees)\n",
            "Eliminando fila: País - Panama, Indicador - Gender wage premium in the public sector, by industry: Social Security (compared to male paid employees)\n",
            "Eliminando fila: País - Panama, Indicador - Public sector wage premium for males, by occupation: Medical workers (compared to paid wage employees)\n",
            "Eliminando fila: País - Panama, Indicador - Public sector wage premium for males, by occupation: Teachers (compared to paid wage employees)\n",
            "Eliminando fila: País - Panama, Indicador - P-Value: Gender wage premium in the private sector, by occupation: Medical workers (compared to male paid employees)\n",
            "Eliminando fila: País - Panama, Indicador - P-Value: Gender wage premium in the public sector, by industry: Core Public Administration (compared to male paid employees)\n",
            "Eliminando fila: País - Panama, Indicador - P-Value: Gender wage premium in the public sector, by industry: Public Safety (compared to male paid employees)\n",
            "Eliminando fila: País - Panama, Indicador - P-Value: Gender wage premium in the public sector, by industry: Social Security (compared to male paid employees)\n",
            "Eliminando fila: País - Panama, Indicador - P-Value: Public sector wage premium for males, by occupation: Medical workers (compared to paid wage employees)\n",
            "Eliminando fila: País - Panama, Indicador - P-Value: Public sector wage premium for males, by occupation: Teachers (compared to paid wage employees)\n",
            "Eliminando fila: País - Paraguay, Indicador - Public sector wage premium for males, by occupation: Medical workers (compared to paid wage employees)\n",
            "Eliminando fila: País - Paraguay, Indicador - P-Value: Public sector wage premium for males, by occupation: Medical workers (compared to paid wage employees)\n",
            "Eliminando fila: País - Venezuela, Indicador - Females, as a share of private paid employees by occupational group: Clerks\n",
            "Eliminando fila: País - Venezuela, Indicador - Females, as a share of private paid employees by occupational group: Elementary occupation\n",
            "Eliminando fila: País - Venezuela, Indicador - Females, as a share of private paid employees by occupational group: Managers\n",
            "Eliminando fila: País - Venezuela, Indicador - Females, as a share of private paid employees by occupational group: Professionals\n",
            "Eliminando fila: País - Venezuela, Indicador - Females, as a share of private paid employees by occupational group: Technicians\n",
            "Eliminando fila: País - Venezuela, Indicador - Females, as a share of public paid employees by industry: Core Public Administration\n",
            "Eliminando fila: País - Venezuela, Indicador - Females, as a share of public paid employees by industry: Education\n",
            "Eliminando fila: País - Venezuela, Indicador - Females, as a share of public paid employees by industry: Health\n",
            "Eliminando fila: País - Venezuela, Indicador - Females, as a share of public paid employees by industry: Public Administration\n",
            "Eliminando fila: País - Venezuela, Indicador - Females, as a share of public paid employees by industry: Public Safety\n",
            "Eliminando fila: País - Venezuela, Indicador - Females, as a share of public paid employees by industry: Social Security\n",
            "Eliminando fila: País - Venezuela, Indicador - Females, as a share of public paid employees by industry: Teachers\n",
            "Eliminando fila: País - Venezuela, Indicador - Females, as a share of public paid employees by occupation: Medical workers\n",
            "Eliminando fila: País - Venezuela, Indicador - Females, as a share of public paid employees by occupational group: Clerks\n",
            "Eliminando fila: País - Venezuela, Indicador - Females, as a share of public paid employees by occupational group: Elementary occupation\n",
            "Eliminando fila: País - Venezuela, Indicador - Females, as a share of public paid employees by occupational group: Managers\n",
            "Eliminando fila: País - Venezuela, Indicador - Females, as a share of public paid employees by occupational group: Professionals\n",
            "Eliminando fila: País - Venezuela, Indicador - Females, as a share of public paid employees by occupational group: Technicians\n",
            "Eliminando fila: País - Venezuela, Indicador - Gender wage premium in the private sector, by industry: Education (compared to male paid employees)\n",
            "Eliminando fila: País - Venezuela, Indicador - Gender wage premium in the private sector, by industry: Health (compared to male paid employees)\n",
            "Eliminando fila: País - Venezuela, Indicador - Gender wage premium in the private sector, by occupation: Medical workers (compared to male paid employees)\n",
            "Eliminando fila: País - Venezuela, Indicador - Gender wage premium in the private sector, by occupation: Teachers (compared to male paid employees)\n",
            "Eliminando fila: País - Venezuela, Indicador - Gender wage premium in the public sector, by industry: Core Public Administration (compared to male paid employees)\n",
            "Eliminando fila: País - Venezuela, Indicador - Gender wage premium in the public sector, by industry: Education (compared to male paid employees)\n",
            "Eliminando fila: País - Venezuela, Indicador - Gender wage premium in the public sector, by industry: Health (compared to male paid employees)\n",
            "Eliminando fila: País - Venezuela, Indicador - Gender wage premium in the public sector, by industry: Public Administration (compared to male paid employees)\n",
            "Eliminando fila: País - Venezuela, Indicador - Gender wage premium in the public sector, by industry: Public Safety (compared to male paid employees)\n",
            "Eliminando fila: País - Venezuela, Indicador - Gender wage premium in the public sector, by industry: Social Security (compared to male paid employees)\n",
            "Eliminando fila: País - Venezuela, Indicador - Public sector female employment, as a share of paid employment by industry: Education\n",
            "Eliminando fila: País - Venezuela, Indicador - Public sector female employment, as a share of paid employment by industry: Health\n",
            "Eliminando fila: País - Venezuela, Indicador - Public sector female employment, as a share of paid employment by occupation: Medical workers\n",
            "Eliminando fila: País - Venezuela, Indicador - Public sector female employment, as a share of paid employment by occupation: Teachers\n",
            "Eliminando fila: País - Venezuela, Indicador - Public sector female employment, as a share of paid employment by occupational group: Clerks\n",
            "Eliminando fila: País - Venezuela, Indicador - Public sector female employment, as a share of paid employment by occupational group: Elementary workers\n",
            "Eliminando fila: País - Venezuela, Indicador - Public sector female employment, as a share of paid employment by occupational group: Manager\n",
            "Eliminando fila: País - Venezuela, Indicador - Public sector female employment, as a share of paid employment by occupational group: Professionals\n",
            "Eliminando fila: País - Venezuela, Indicador - Public sector female employment, as a share of paid employment by occupational group: Technicians\n",
            "Eliminando fila: País - Venezuela, Indicador - Public sector wage premium for females, by industry: Education (compared to paid wage employees)\n",
            "Eliminando fila: País - Venezuela, Indicador - Public sector wage premium for females, by industry: Health (compared to paid wage employees)\n",
            "Eliminando fila: País - Venezuela, Indicador - Public sector wage premium for females, by occupation: Medical workers (compared to paid wage employees)\n",
            "Eliminando fila: País - Venezuela, Indicador - Public sector wage premium for females, by occupation: Teachers (compared to paid wage employees)\n",
            "Eliminando fila: País - Venezuela, Indicador - Public sector wage premium for males, by industry: Education (compared to paid wage employees)\n",
            "Eliminando fila: País - Venezuela, Indicador - Public sector wage premium for males, by industry: Health (compared to paid wage employees)\n",
            "Eliminando fila: País - Venezuela, Indicador - Public sector wage premium for males, by occupation: Medical workers (compared to paid wage employees)\n",
            "Eliminando fila: País - Venezuela, Indicador - Public sector wage premium for males, by occupation: Teachers (compared to paid wage employees)\n",
            "Eliminando fila: País - Venezuela, Indicador - P-Value: Gender wage premium in the private sector, by industry: Education (compared to male paid employees)\n",
            "Eliminando fila: País - Venezuela, Indicador - P-Value: Gender wage premium in the private sector, by industry: Health (compared to male paid employees)\n",
            "Eliminando fila: País - Venezuela, Indicador - P-Value: Gender wage premium in the private sector, by occupation: Medical workers (compared to male paid employees)\n",
            "Eliminando fila: País - Venezuela, Indicador - P-Value: Gender wage premium in the private sector, by occupation: Teachers (compared to male paid employees)\n",
            "Eliminando fila: País - Venezuela, Indicador - P-Value: Gender wage premium in the public sector, by industry: Core Public Administration (compared to male paid employees)\n",
            "Eliminando fila: País - Venezuela, Indicador - P-Value: Gender wage premium in the public sector, by industry: Education (compared to male paid employees)\n",
            "Eliminando fila: País - Venezuela, Indicador - P-Value: Gender wage premium in the public sector, by industry: Health (compared to male paid employees)\n",
            "Eliminando fila: País - Venezuela, Indicador - P-Value: Gender wage premium in the public sector, by industry: Public Administration (compared to male paid employees)\n",
            "Eliminando fila: País - Venezuela, Indicador - P-Value: Gender wage premium in the public sector, by industry: Public Safety (compared to male paid employees)\n",
            "Eliminando fila: País - Venezuela, Indicador - P-Value: Gender wage premium in the public sector, by industry: Social Security (compared to male paid employees)\n",
            "Eliminando fila: País - Venezuela, Indicador - P-Value: Public sector wage premium for females, by industry: Education (compared to paid wage employees)\n",
            "Eliminando fila: País - Venezuela, Indicador - P-Value: Public sector wage premium for females, by industry: Health (compared to paid wage employees)\n",
            "Eliminando fila: País - Venezuela, Indicador - P-Value: Public sector wage premium for females, by occupation: Medical workers (compared to paid wage employees)\n",
            "Eliminando fila: País - Venezuela, Indicador - P-Value: Public sector wage premium for females, by occupation: Teachers (compared to paid wage employees)\n",
            "Eliminando fila: País - Venezuela, Indicador - P-Value: Public sector wage premium for males, by industry: Education (compared to paid wage employees)\n",
            "Eliminando fila: País - Venezuela, Indicador - P-Value: Public sector wage premium for males, by industry: Health (compared to paid wage employees)\n",
            "Eliminando fila: País - Venezuela, Indicador - P-Value: Public sector wage premium for males, by occupation: Medical workers (compared to paid wage employees)\n",
            "Eliminando fila: País - Venezuela, Indicador - P-Value: Public sector wage premium for males, by occupation: Teachers (compared to paid wage employees)\n"
          ]
        }
      ],
      "source": [
        "import pandas as pd\n",
        "\n",
        "# Asumiendo que df_latam_genero ya está definido\n",
        "\n",
        "# Seleccionar las columnas de años\n",
        "year_cols = [str(year) for year in range(2000, 2018)]  # Asegúrate de que el rango sea correcto\n",
        "\n",
        "# Identificar las filas con todos los valores NaN en las columnas de años\n",
        "rows_to_drop = df_latam_genero_colsdropped[df_latam_genero_colsdropped[year_cols].isnull().all(axis=1)]\n",
        "\n",
        "# Imprimir el país e indicador de las filas que se van a eliminar\n",
        "for index, row in rows_to_drop.iterrows():\n",
        "    print(f\"Eliminando fila: País - {row['Country Name']}, Indicador - {row['Indicator Name']}\")\n",
        "\n",
        "# Eliminar las filas identificadas\n",
        "df_latam_genero_colsdropped_rowsdropped = df_latam_genero_colsdropped.drop(rows_to_drop.index)\n",
        "\n",
        "df_latam_genero_colsdropped_rowsdropped.to_csv('df_latam_genero_colsdropped_rowsdropped.csv', index=False)"
      ]
    },
    {
      "cell_type": "markdown",
      "metadata": {
        "id": "R7evf5lpJJ0x"
      },
      "source": [
        "# 4. Imputación de valores faltantes usando regresión lineal por fila (serie temporal)\n",
        "Los valores numéricos de cada fila del dataset (i.e., columnas 2000, 2001, etc) contiene una serie temporal para un país e indicador.\n",
        "Si la serie tiene al menos dos valores conocidos, se aplica una regresión lineal simple\n",
        "para predecir los valores faltantes. Si hay menos de dos valores, no es posible aplicar regresión, por lo que la fila se elimina. Esta imputación permite completar datos de forma coherente\n",
        "manteniendo las tendencias temporales observadas.\n"
      ]
    },
    {
      "cell_type": "code",
      "execution_count": null,
      "metadata": {
        "colab": {
          "base_uri": "https://localhost:8080/"
        },
        "id": "3tLTC52wwcTX",
        "outputId": "3304d0c4-4ad3-4b36-f120-28d6e7aa0560"
      },
      "outputs": [
        {
          "name": "stdout",
          "output_type": "stream",
          "text": [
            "Fila descartada - País: Bolivia, Indicador: Females, as a share of public paid employees by industry: Social Security\n",
            "Fila descartada - País: Guatemala, Indicador: Gender wage premium in the private sector, by occupation: Medical workers (compared to male paid employees)\n",
            "Fila descartada - País: Guatemala, Indicador: Gender wage premium in the private sector, by occupation: Teachers (compared to male paid employees)\n",
            "Fila descartada - País: Guatemala, Indicador: Public sector wage premium for females, by occupation: Medical workers (compared to paid wage employees)\n",
            "Fila descartada - País: Guatemala, Indicador: Public sector wage premium for females, by occupation: Teachers (compared to paid wage employees)\n",
            "Fila descartada - País: Guatemala, Indicador: P-Value: Gender wage premium in the private sector, by occupation: Medical workers (compared to male paid employees)\n",
            "Fila descartada - País: Guatemala, Indicador: P-Value: Gender wage premium in the private sector, by occupation: Teachers (compared to male paid employees)\n",
            "Fila descartada - País: Guatemala, Indicador: P-Value: Public sector wage premium for females, by occupation: Medical workers (compared to paid wage employees)\n",
            "Fila descartada - País: Guatemala, Indicador: P-Value: Public sector wage premium for females, by occupation: Teachers (compared to paid wage employees)\n",
            "Fila descartada - País: Nicaragua, Indicador: Gender wage premium in the private sector, by occupation: Teachers (compared to male paid employees)\n",
            "Fila descartada - País: Nicaragua, Indicador: Public sector wage premium for females, by occupation: Medical workers (compared to paid wage employees)\n",
            "Fila descartada - País: Nicaragua, Indicador: Public sector wage premium for females, by occupation: Teachers (compared to paid wage employees)\n",
            "Fila descartada - País: Nicaragua, Indicador: P-Value: Gender wage premium in the private sector, by occupation: Teachers (compared to male paid employees)\n",
            "Fila descartada - País: Nicaragua, Indicador: P-Value: Public sector wage premium for females, by occupation: Medical workers (compared to paid wage employees)\n",
            "Fila descartada - País: Nicaragua, Indicador: P-Value: Public sector wage premium for females, by occupation: Teachers (compared to paid wage employees)\n",
            "Fila descartada - País: Panama, Indicador: Gender wage premium in the private sector, by occupation: Teachers (compared to male paid employees)\n",
            "Fila descartada - País: Panama, Indicador: Public sector wage premium for females, by occupation: Medical workers (compared to paid wage employees)\n",
            "Fila descartada - País: Panama, Indicador: Public sector wage premium for females, by occupation: Teachers (compared to paid wage employees)\n",
            "Fila descartada - País: Panama, Indicador: P-Value: Gender wage premium in the private sector, by occupation: Teachers (compared to male paid employees)\n",
            "Fila descartada - País: Panama, Indicador: P-Value: Public sector wage premium for females, by occupation: Medical workers (compared to paid wage employees)\n",
            "Fila descartada - País: Panama, Indicador: P-Value: Public sector wage premium for females, by occupation: Teachers (compared to paid wage employees)\n",
            "Fila descartada - País: Peru, Indicador: Females, as a share of public paid employees by industry: Social Security\n",
            "Fila descartada - País: Peru, Indicador: Gender wage premium in the private sector, by occupation: Medical workers (compared to male paid employees)\n",
            "Fila descartada - País: Peru, Indicador: Public sector wage premium for females, by occupation: Medical workers (compared to paid wage employees)\n",
            "Fila descartada - País: Peru, Indicador: P-Value: Gender wage premium in the private sector, by occupation: Medical workers (compared to male paid employees)\n",
            "Fila descartada - País: Peru, Indicador: P-Value: Public sector wage premium for females, by occupation: Medical workers (compared to paid wage employees)\n",
            "Imputación completada y archivo guardado.\n",
            "Columnas con al menos un NaN:\n",
            "No hay columnas con NaN.\n"
          ]
        }
      ],
      "source": [
        "import pandas as pd\n",
        "import numpy as np\n",
        "from sklearn.linear_model import LinearRegression\n",
        "\n",
        "# Cargar el archivo CSV\n",
        "#df_latam_genero_colsdropped_rowsdropped = pd.read_csv('df_latam_genero_colsdropped_rowsdropped.csv')\n",
        "\n",
        "# Definir las columnas correspondientes a los años (2000 a 2017)\n",
        "years = list(range(2000, 2018))\n",
        "year_cols = [str(year) for year in years]\n",
        "\n",
        "# Identificar filas que tengan al menos 2 valores no faltantes en la serie temporal\n",
        "mask_valid = df_latam_genero_colsdropped_rowsdropped[year_cols].count(axis=1) >= 2\n",
        "\n",
        "# Filtrar las filas a descartar (menos de 2 datos válidos) e imprimir país e indicador\n",
        "df_invalid = df_latam_genero_colsdropped_rowsdropped[~mask_valid]\n",
        "for idx, row in df_invalid.iterrows():\n",
        "    print(f\"Fila descartada - País: {row['Country Name']}, Indicador: {row['Indicator Name']}\")\n",
        "\n",
        "# Conservar únicamente las filas válidas para imputar\n",
        "df_valid = df_latam_genero_colsdropped_rowsdropped[mask_valid].copy()\n",
        "\n",
        "def imputar_fila(row):\n",
        "    # Extraer la serie temporal para la fila\n",
        "    ts = row[year_cols]\n",
        "    ts_valid = ts.dropna()\n",
        "\n",
        "    # Convertir los años (índices) a un array de enteros para el entrenamiento\n",
        "    X_train = np.array([int(year) for year in ts_valid.index]).reshape(-1, 1)\n",
        "    y_train = ts_valid.values.astype(float)\n",
        "\n",
        "    # Ajustar el modelo de regresión lineal\n",
        "    model = LinearRegression()\n",
        "    model.fit(X_train, y_train)\n",
        "\n",
        "    # Para cada año con dato faltante, predecir el valor y asignarlo\n",
        "    for col in ts.index[ts.isna()]:\n",
        "        year_int = int(col)\n",
        "        pred = model.predict(np.array([[year_int]]))[0]\n",
        "        row[col] = pred\n",
        "\n",
        "    return row\n",
        "\n",
        "# Aplicar la función de imputación a cada fila válida\n",
        "df_latam_genero_colsdropped_rowsdropped_imputed = df_valid.apply(imputar_fila, axis=1)\n",
        "\n",
        "# Guardar el DataFrame resultante en un nuevo archivo CSV\n",
        "df_latam_genero_colsdropped_rowsdropped_imputed.to_csv('df_latam_genero_colsdropped_rowsdropped_imputed.csv', index=False)\n",
        "\n",
        "print(\"Imputación completada y archivo guardado.\")\n",
        "\n",
        "columnas_con_nan = df_latam_genero_colsdropped_rowsdropped_imputed.columns[df_latam_genero_colsdropped_rowsdropped_imputed.isnull().any()].tolist()\n",
        "print(\"Columnas con al menos un NaN:\")\n",
        "for columna in columnas_con_nan:\n",
        "    print(columna)\n",
        "if not columnas_con_nan:\n",
        "    print(\"No hay columnas con NaN.\")"
      ]
    },
    {
      "cell_type": "markdown",
      "metadata": {
        "id": "gP48KhIyVENs"
      },
      "source": [
        "# 5. Reorganizar los datos por país e indicadores para un año específico\n",
        "Después de imputar los valores faltantes, puede ser útil reorganizar la estructura del dataset para análisis por año. La función indicadores_por_pais_y_año transforma el DataFrame original, que tiene múltiples filas por país (una por indicador), en un formato más compacto en el que cada país tiene una sola fila, y cada indicador se convierte en una columna. Esta forma es útil para análisis multivariado o clustering por país."
      ]
    },
    {
      "cell_type": "code",
      "execution_count": null,
      "metadata": {
        "id": "T6Y7AaP4Qmum"
      },
      "outputs": [],
      "source": [
        "def indicadores_por_pais_y_año(df, año):\n",
        "  \"\"\"\n",
        "  Crea un DataFrame con los países como filas, Country Code como índice, y los indicadores como columnas para un año específico.\n",
        "\n",
        "  Args:\n",
        "    df: El DataFrame original (df_latam_genero_colsdropped_rowsdropped_imputed).\n",
        "    año: El año para el que se quiere obtener los indicadores.\n",
        "\n",
        "  Returns:\n",
        "    Un nuevo DataFrame con los países como filas, Country Code como índice, y los indicadores como columnas.\n",
        "  \"\"\"\n",
        "\n",
        "  # 1. Filtrar el DataFrame por el año especificado\n",
        "  df_año = df[['Country Code', 'Country Name', 'Indicator Name', str(año)]]\n",
        "\n",
        "  # 2. Pivotar el DataFrame para obtener la estructura deseada\n",
        "  df_pivoteado = df_año.pivot(index='Country Code', columns='Indicator Name', values=str(año))\n",
        "\n",
        "  #3. Restablecer el nombre de las columnas\n",
        "  df_pivoteado.columns.name = None\n",
        "\n",
        "  #4. Agregar 'Country Name' como columna\n",
        "  df_pivoteado.insert(0, 'Country Name', df_año.groupby('Country Code')['Country Name'].first())\n",
        "\n",
        "  return df_pivoteado\n",
        "\n",
        "df_pivoteado = indicadores_por_pais_y_año(df_latam_genero_colsdropped_rowsdropped_imputed, 2012)\n",
        "#"
      ]
    }
  ],
  "metadata": {
    "colab": {
      "provenance": []
    },
    "kernelspec": {
      "display_name": "base",
      "language": "python",
      "name": "python3"
    },
    "language_info": {
      "codemirror_mode": {
        "name": "ipython",
        "version": 3
      },
      "file_extension": ".py",
      "mimetype": "text/x-python",
      "name": "python",
      "nbconvert_exporter": "python",
      "pygments_lexer": "ipython3",
      "version": "3.12.7"
    }
  },
  "nbformat": 4,
  "nbformat_minor": 0
}
